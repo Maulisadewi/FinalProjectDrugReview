{
 "cells": [
  {
   "cell_type": "code",
   "execution_count": 1,
   "metadata": {
    "collapsed": true
   },
   "outputs": [],
   "source": [
    "import pandas as pd\n",
    "import numpy as np\n",
    "import matplotlib.pyplot as plt\n",
    "import nltk\n",
    "import seaborn as sns"
   ]
  },
  {
   "cell_type": "code",
   "execution_count": 17,
   "metadata": {
    "collapsed": true
   },
   "outputs": [],
   "source": [
    "cols = ['id','drugName','condition','review','rating','date','usefulCount']\n",
    "train = pd.read_csv('drugsComTrain_raw.tsv', sep='\\t', names=cols ,header=0)\n",
    "test = pd.read_csv('drugsComTest_raw.tsv', sep='\\t', names=cols, header=0)"
   ]
  },
  {
   "cell_type": "code",
   "execution_count": 10,
   "metadata": {},
   "outputs": [
    {
     "data": {
      "text/html": [
       "<div>\n",
       "<style scoped>\n",
       "    .dataframe tbody tr th:only-of-type {\n",
       "        vertical-align: middle;\n",
       "    }\n",
       "\n",
       "    .dataframe tbody tr th {\n",
       "        vertical-align: top;\n",
       "    }\n",
       "\n",
       "    .dataframe thead th {\n",
       "        text-align: right;\n",
       "    }\n",
       "</style>\n",
       "<table border=\"1\" class=\"dataframe\">\n",
       "  <thead>\n",
       "    <tr style=\"text-align: right;\">\n",
       "      <th></th>\n",
       "      <th>id</th>\n",
       "      <th>drugName</th>\n",
       "      <th>condition</th>\n",
       "      <th>review</th>\n",
       "      <th>rating</th>\n",
       "      <th>date</th>\n",
       "      <th>usefulCount</th>\n",
       "    </tr>\n",
       "  </thead>\n",
       "  <tbody>\n",
       "    <tr>\n",
       "      <th>0</th>\n",
       "      <td>206461</td>\n",
       "      <td>Valsartan</td>\n",
       "      <td>Left Ventricular Dysfunction</td>\n",
       "      <td>\"It has no side effect, I take it in combinati...</td>\n",
       "      <td>9.0</td>\n",
       "      <td>May 20, 2012</td>\n",
       "      <td>27</td>\n",
       "    </tr>\n",
       "    <tr>\n",
       "      <th>1</th>\n",
       "      <td>95260</td>\n",
       "      <td>Guanfacine</td>\n",
       "      <td>ADHD</td>\n",
       "      <td>\"My son is halfway through his fourth week of ...</td>\n",
       "      <td>8.0</td>\n",
       "      <td>April 27, 2010</td>\n",
       "      <td>192</td>\n",
       "    </tr>\n",
       "    <tr>\n",
       "      <th>2</th>\n",
       "      <td>92703</td>\n",
       "      <td>Lybrel</td>\n",
       "      <td>Birth Control</td>\n",
       "      <td>\"I used to take another oral contraceptive, wh...</td>\n",
       "      <td>5.0</td>\n",
       "      <td>December 14, 2009</td>\n",
       "      <td>17</td>\n",
       "    </tr>\n",
       "    <tr>\n",
       "      <th>3</th>\n",
       "      <td>138000</td>\n",
       "      <td>Ortho Evra</td>\n",
       "      <td>Birth Control</td>\n",
       "      <td>\"This is my first time using any form of birth...</td>\n",
       "      <td>8.0</td>\n",
       "      <td>November 3, 2015</td>\n",
       "      <td>10</td>\n",
       "    </tr>\n",
       "    <tr>\n",
       "      <th>4</th>\n",
       "      <td>35696</td>\n",
       "      <td>Buprenorphine / naloxone</td>\n",
       "      <td>Opiate Dependence</td>\n",
       "      <td>\"Suboxone has completely turned my life around...</td>\n",
       "      <td>9.0</td>\n",
       "      <td>November 27, 2016</td>\n",
       "      <td>37</td>\n",
       "    </tr>\n",
       "  </tbody>\n",
       "</table>\n",
       "</div>"
      ],
      "text/plain": [
       "       id                  drugName                     condition  \\\n",
       "0  206461                 Valsartan  Left Ventricular Dysfunction   \n",
       "1   95260                Guanfacine                          ADHD   \n",
       "2   92703                    Lybrel                 Birth Control   \n",
       "3  138000                Ortho Evra                 Birth Control   \n",
       "4   35696  Buprenorphine / naloxone             Opiate Dependence   \n",
       "\n",
       "                                              review  rating  \\\n",
       "0  \"It has no side effect, I take it in combinati...     9.0   \n",
       "1  \"My son is halfway through his fourth week of ...     8.0   \n",
       "2  \"I used to take another oral contraceptive, wh...     5.0   \n",
       "3  \"This is my first time using any form of birth...     8.0   \n",
       "4  \"Suboxone has completely turned my life around...     9.0   \n",
       "\n",
       "                date  usefulCount  \n",
       "0       May 20, 2012           27  \n",
       "1     April 27, 2010          192  \n",
       "2  December 14, 2009           17  \n",
       "3   November 3, 2015           10  \n",
       "4  November 27, 2016           37  "
      ]
     },
     "metadata": {},
     "output_type": "display_data"
    },
    {
     "data": {
      "text/html": [
       "<div>\n",
       "<style scoped>\n",
       "    .dataframe tbody tr th:only-of-type {\n",
       "        vertical-align: middle;\n",
       "    }\n",
       "\n",
       "    .dataframe tbody tr th {\n",
       "        vertical-align: top;\n",
       "    }\n",
       "\n",
       "    .dataframe thead th {\n",
       "        text-align: right;\n",
       "    }\n",
       "</style>\n",
       "<table border=\"1\" class=\"dataframe\">\n",
       "  <thead>\n",
       "    <tr style=\"text-align: right;\">\n",
       "      <th></th>\n",
       "      <th>id</th>\n",
       "      <th>drugName</th>\n",
       "      <th>condition</th>\n",
       "      <th>review</th>\n",
       "      <th>rating</th>\n",
       "      <th>date</th>\n",
       "      <th>usefulCount</th>\n",
       "    </tr>\n",
       "  </thead>\n",
       "  <tbody>\n",
       "    <tr>\n",
       "      <th>0</th>\n",
       "      <td>163740</td>\n",
       "      <td>Mirtazapine</td>\n",
       "      <td>Depression</td>\n",
       "      <td>\"I&amp;#039;ve tried a few antidepressants over th...</td>\n",
       "      <td>10.0</td>\n",
       "      <td>February 28, 2012</td>\n",
       "      <td>22</td>\n",
       "    </tr>\n",
       "    <tr>\n",
       "      <th>1</th>\n",
       "      <td>206473</td>\n",
       "      <td>Mesalamine</td>\n",
       "      <td>Crohn's Disease, Maintenance</td>\n",
       "      <td>\"My son has Crohn&amp;#039;s disease and has done ...</td>\n",
       "      <td>8.0</td>\n",
       "      <td>May 17, 2009</td>\n",
       "      <td>17</td>\n",
       "    </tr>\n",
       "    <tr>\n",
       "      <th>2</th>\n",
       "      <td>159672</td>\n",
       "      <td>Bactrim</td>\n",
       "      <td>Urinary Tract Infection</td>\n",
       "      <td>\"Quick reduction of symptoms\"</td>\n",
       "      <td>9.0</td>\n",
       "      <td>September 29, 2017</td>\n",
       "      <td>3</td>\n",
       "    </tr>\n",
       "    <tr>\n",
       "      <th>3</th>\n",
       "      <td>39293</td>\n",
       "      <td>Contrave</td>\n",
       "      <td>Weight Loss</td>\n",
       "      <td>\"Contrave combines drugs that were used for al...</td>\n",
       "      <td>9.0</td>\n",
       "      <td>March 5, 2017</td>\n",
       "      <td>35</td>\n",
       "    </tr>\n",
       "    <tr>\n",
       "      <th>4</th>\n",
       "      <td>97768</td>\n",
       "      <td>Cyclafem 1 / 35</td>\n",
       "      <td>Birth Control</td>\n",
       "      <td>\"I have been on this birth control for one cyc...</td>\n",
       "      <td>9.0</td>\n",
       "      <td>October 22, 2015</td>\n",
       "      <td>4</td>\n",
       "    </tr>\n",
       "  </tbody>\n",
       "</table>\n",
       "</div>"
      ],
      "text/plain": [
       "       id         drugName                     condition  \\\n",
       "0  163740      Mirtazapine                    Depression   \n",
       "1  206473       Mesalamine  Crohn's Disease, Maintenance   \n",
       "2  159672          Bactrim       Urinary Tract Infection   \n",
       "3   39293         Contrave                   Weight Loss   \n",
       "4   97768  Cyclafem 1 / 35                 Birth Control   \n",
       "\n",
       "                                              review  rating  \\\n",
       "0  \"I&#039;ve tried a few antidepressants over th...    10.0   \n",
       "1  \"My son has Crohn&#039;s disease and has done ...     8.0   \n",
       "2                      \"Quick reduction of symptoms\"     9.0   \n",
       "3  \"Contrave combines drugs that were used for al...     9.0   \n",
       "4  \"I have been on this birth control for one cyc...     9.0   \n",
       "\n",
       "                 date  usefulCount  \n",
       "0   February 28, 2012           22  \n",
       "1        May 17, 2009           17  \n",
       "2  September 29, 2017            3  \n",
       "3       March 5, 2017           35  \n",
       "4    October 22, 2015            4  "
      ]
     },
     "metadata": {},
     "output_type": "display_data"
    }
   ],
   "source": [
    "display(train.head())\n",
    "display(test.head())"
   ]
  },
  {
   "cell_type": "code",
   "execution_count": 11,
   "metadata": {},
   "outputs": [
    {
     "name": "stdout",
     "output_type": "stream",
     "text": [
      "<class 'pandas.core.frame.DataFrame'>\n",
      "RangeIndex: 161297 entries, 0 to 161296\n",
      "Data columns (total 7 columns):\n",
      "id             161297 non-null int64\n",
      "drugName       161297 non-null object\n",
      "condition      160398 non-null object\n",
      "review         161297 non-null object\n",
      "rating         161297 non-null float64\n",
      "date           161297 non-null object\n",
      "usefulCount    161297 non-null int64\n",
      "dtypes: float64(1), int64(2), object(4)\n",
      "memory usage: 8.6+ MB\n",
      "None\n",
      "<class 'pandas.core.frame.DataFrame'>\n",
      "RangeIndex: 53766 entries, 0 to 53765\n",
      "Data columns (total 7 columns):\n",
      "id             53766 non-null int64\n",
      "drugName       53766 non-null object\n",
      "condition      53471 non-null object\n",
      "review         53766 non-null object\n",
      "rating         53766 non-null float64\n",
      "date           53766 non-null object\n",
      "usefulCount    53766 non-null int64\n",
      "dtypes: float64(1), int64(2), object(4)\n",
      "memory usage: 2.9+ MB\n",
      "None\n"
     ]
    }
   ],
   "source": [
    "print(train.info())\n",
    "print(test.info())"
   ]
  },
  {
   "cell_type": "code",
   "execution_count": 15,
   "metadata": {},
   "outputs": [
    {
     "name": "stderr",
     "output_type": "stream",
     "text": [
      "C:\\Users\\HP\\Anaconda3\\lib\\site-packages\\scipy\\stats\\stats.py:1713: FutureWarning: Using a non-tuple sequence for multidimensional indexing is deprecated; use `arr[tuple(seq)]` instead of `arr[seq]`. In the future this will be interpreted as an array index, `arr[np.array(seq)]`, which will result either in an error or a different result.\n",
      "  return np.add.reduce(sorted[indexer] * weights, axis=axis) / sumval\n",
      "C:\\Users\\HP\\Anaconda3\\lib\\site-packages\\matplotlib\\axes\\_axes.py:6462: UserWarning: The 'normed' kwarg is deprecated, and has been replaced by the 'density' kwarg.\n",
      "  warnings.warn(\"The 'normed' kwarg is deprecated, and has been \"\n"
     ]
    },
    {
     "data": {
      "text/plain": [
       "<matplotlib.axes._subplots.AxesSubplot at 0x1d11e9e5ac8>"
      ]
     },
     "execution_count": 15,
     "metadata": {},
     "output_type": "execute_result"
    },
    {
     "data": {
      "image/png": "[encoded data removed]",
      "text/plain": [
       "<Figure size 432x288 with 1 Axes>"
      ]
     },
     "metadata": {},
     "output_type": "display_data"
    }
   ],
   "source": [
    "sns.distplot(train['rating'])"
   ]
  },
  {
   "cell_type": "code",
   "execution_count": 18,
   "metadata": {
    "collapsed": true
   },
   "outputs": [],
   "source": [
    "#replace &#039 --> '\n",
    "def replace_apos(text):\n",
    "    text = text.replace(\"&#039;\",\"'\")\n",
    "    return text\n",
    "train['review'] = train['review'].apply(replace_apos)\n",
    "test['review'] = train['review'].apply(replace_apos)"
   ]
  },
  {
   "cell_type": "code",
   "execution_count": 4,
   "metadata": {},
   "outputs": [
    {
     "name": "stdout",
     "output_type": "stream",
     "text": [
      "Done\n"
     ]
    }
   ],
   "source": [
    "#proses cleaning data\n",
    "from nltk.tokenize import WordPunctTokenizer\n",
    "from nltk.corpus import stopwords\n",
    "from bs4 import BeautifulSoup\n",
    "import re\n",
    "tokenizer = WordPunctTokenizer()\n",
    "stop_words = set(stopwords.words('english'))\n",
    "negation_dic = {\"isn't\":\"is not\", \"aren't\": \"are not\", \"wasn't\":\"was not\",\n",
    "               \"weren't\":\"were not\", \"haven't\":\"have not\",\"hasn't\":\"has not\",\n",
    "               \"hadn't\":\"had not\",\"won't\":\"will not\",\"wouldn't\":\"would not\",\n",
    "               \"don't\":\"do not\",\"doesn't\":\"does not\",\"didn't\":\"did not\",\n",
    "               \"can't\":\"can not\",\"couldn't\": \"could not\",\"shouldn't\":\"should not\",\n",
    "               \"mightn't\":\"might not\",\"mustn't\":\"must not\"}\n",
    "neg_pattern = re.compile(r'\\b(' + '|'.join(negation_dic.keys())+r')\\b')\n",
    "\n",
    "def cleaner(text):\n",
    "    soup = BeautifulSoup(text, 'lxml')\n",
    "    souped = soup.get_text()\n",
    "    #letters_only = re.sub(\"[^a-zA-Z]\", \" \", souped)\n",
    "    lower_case = souped.lower()\n",
    "    neg_handled = neg_pattern.sub(lambda x: negation_dic[x.group()],lower_case)\n",
    "    letters_only = re.sub(\"[^a-zA-Z]\",\" \", neg_handled)\n",
    "    #words = tokenizer.tokenize(lower_case)\n",
    "    words = [x for x in tokenizer.tokenize(letters_only) if len(x)>1]\n",
    "    filtered_words = [w for w in words if not w in stop_words]\n",
    "    return (\" \".join(filtered_words)).strip()\n",
    "    \n",
    "\n",
    "cleaned_data = []\n",
    "\n",
    "for i in range(len(train)):\n",
    "    cleaned_data.append(cleaner(train['review'][i]))\n",
    "\n",
    "cleaned_test = []\n",
    "for i in range(len(test)):\n",
    "    cleaned_test.append(cleaner(test['review'][i]))\n",
    "print('Done')"
   ]
  },
  {
   "cell_type": "code",
   "execution_count": 5,
   "metadata": {
    "collapsed": true
   },
   "outputs": [],
   "source": [
    "#proses lemmatizing\n",
    "from nltk.stem import WordNetLemmatizer\n",
    "lemmatizer = WordNetLemmatizer()\n",
    "from nltk.corpus import wordnet\n",
    "\n",
    "def tagging(tag):\n",
    "    if tag.startswith('J'):\n",
    "        return wordnet.ADJ\n",
    "    elif tag.startswith('V'):\n",
    "        return wordnet.VERB\n",
    "    elif tag.startswith('N'):\n",
    "        return wordnet.NOUN\n",
    "    elif tag.startswith('R'):\n",
    "        return wordnet.ADV\n",
    "    else:\n",
    "        return None\n",
    "\n",
    "\n",
    "def lemmatize_data(sentence):\n",
    "    nltk_tag = nltk.pos_tag(nltk.word_tokenize(sentence))\n",
    "    tagged = map(lambda x: (x[0], tagging(x[1])), nltk_tag)\n",
    "    \n",
    "    words = []\n",
    "    for word, tag in tagged:\n",
    "        if tag is None:\n",
    "            words.append(word)\n",
    "        else:\n",
    "            words.append(lemmatizer.lemmatize(word, tag))\n",
    "    return (\" \".join(words))\n",
    "lemmatized_data = []\n",
    "for i in range(len(cleaned_data)):\n",
    "    lemmatized_data.append(lemmatize_data(cleaned_data[i]))\n",
    "\n",
    "lemmatized_test = []\n",
    "for i in range(len(cleaned_test)):\n",
    "    lemmatized_test.append(lemmatize_data(cleaned_test[i]))"
   ]
  },
  {
   "cell_type": "code",
   "execution_count": 6,
   "metadata": {},
   "outputs": [
    {
     "name": "stdout",
     "output_type": "stream",
     "text": [
      "<class 'pandas.core.frame.DataFrame'>\n",
      "RangeIndex: 161297 entries, 0 to 161296\n",
      "Data columns (total 2 columns):\n",
      "review    161297 non-null object\n",
      "rating    161297 non-null float64\n",
      "dtypes: float64(1), object(1)\n",
      "memory usage: 2.5+ MB\n"
     ]
    }
   ],
   "source": [
    "#menyimpan hasil ke dalam dataframe\n",
    "clean_df = pd.DataFrame(lemmatized_data, columns=['review'])\n",
    "clean_df['rating'] = train['rating']\n",
    "clean_df.info()\n",
    "clean_df.to_csv('clean_data4.csv')\n",
    "\n",
    "clean_test = pd.DataFrame(cleaned_test, columns=['review'])\n",
    "clean_test['rating'] = test['rating']\n",
    "clean_test.to_csv('test_clean.csv')"
   ]
  },
  {
   "cell_type": "code",
   "execution_count": 2,
   "metadata": {
    "collapsed": true
   },
   "outputs": [],
   "source": [
    "cols = ['No','review','rating']\n",
    "df = pd.read_csv('clean_data4.csv', names=cols, header=0)\n",
    "df.drop('No', axis=1, inplace=True)\n",
    "df.head()\n",
    "\n",
    "test = pd.read_csv('test_clean.csv', names=cols, header=0)\n",
    "test.drop('No', axis=1, inplace=True)"
   ]
  },
  {
   "cell_type": "code",
   "execution_count": 3,
   "metadata": {},
   "outputs": [
    {
     "name": "stdout",
     "output_type": "stream",
     "text": [
      "7\n",
      "review     True\n",
      "rating    False\n",
      "dtype: bool\n",
      "<class 'pandas.core.frame.DataFrame'>\n",
      "RangeIndex: 161290 entries, 0 to 161289\n",
      "Data columns (total 2 columns):\n",
      "review    161290 non-null object\n",
      "rating    161290 non-null float64\n",
      "dtypes: float64(1), object(1)\n",
      "memory usage: 2.5+ MB\n",
      "2\n",
      "review     True\n",
      "rating    False\n",
      "dtype: bool\n"
     ]
    }
   ],
   "source": [
    "#drop row with missing values\n",
    "df[df.isnull().any(axis=1)].head()\n",
    "print(np.sum(df.isnull().any(axis=1)))\n",
    "print(df.isnull().any(axis=0))\n",
    "df.dropna(inplace=True)\n",
    "df.reset_index(drop=True, inplace=True)\n",
    "df.info()\n",
    "\n",
    "\n",
    "test[test.isnull().any(axis=1)].head()\n",
    "print(np.sum(test.isnull().any(axis=1)))\n",
    "print(test.isnull().any(axis=0))\n",
    "test.dropna(inplace=True,axis=0)\n",
    "test.reset_index(drop=True, inplace=True)"
   ]
  },
  {
   "cell_type": "code",
   "execution_count": 4,
   "metadata": {
    "collapsed": true
   },
   "outputs": [],
   "source": [
    "X = df.review[pd.notnull(df.review)]\n",
    "y = df.rating[pd.notnull(df.rating)]\n",
    "\n",
    "X_test = test.review[pd.notnull(test.review)]\n",
    "y_test = test.rating[pd.notnull(test.rating)]\n",
    "\n",
    "from sklearn.model_selection import train_test_split\n",
    "X_train, X_validation, y_train, y_validation = train_test_split(X,y, test_size=0.1, random_state=0)"
   ]
  },
  {
   "cell_type": "code",
   "execution_count": 5,
   "metadata": {},
   "outputs": [
    {
     "name": "stderr",
     "output_type": "stream",
     "text": [
      "C:\\Users\\HP\\Anaconda3\\lib\\site-packages\\sklearn\\linear_model\\stochastic_gradient.py:130: DeprecationWarning: n_iter parameter is deprecated in 0.19 and will be removed in 0.21. Use max_iter and tol instead.\n",
      "  DeprecationWarning)\n"
     ]
    },
    {
     "name": "stdout",
     "output_type": "stream",
     "text": [
      "Accuracy  0.7122574245148491\n"
     ]
    }
   ],
   "source": [
    "#Stochastic Gradient Descent Classifier\n",
    "from sklearn.linear_model import SGDClassifier\n",
    "from sklearn.pipeline import Pipeline\n",
    "from sklearn.feature_extraction.text import CountVectorizer\n",
    "from sklearn.feature_extraction.text import TfidfTransformer\n",
    "from sklearn.metrics import accuracy_score\n",
    "\n",
    "text_clf_svm = Pipeline([('vect', CountVectorizer(ngram_range=(1,3))),\n",
    "                        ('tfidf', TfidfTransformer(norm=None, smooth_idf=True, sublinear_tf=False,\n",
    "                        use_idf=True)),\n",
    "                        ('clf-svm', SGDClassifier(loss='hinge',alpha=1e-3, n_iter=5,random_state=0))])\n",
    "\n",
    "text_clf_svm = text_clf_svm.fit(X_train.astype(str), y_train)\n",
    "prediction = text_clf_svm.predict(X_validation.astype(str))\n",
    "accuracy = accuracy_score(y_validation, prediction)\n",
    "print(\"Accuracy \",accuracy)"
   ]
  },
  {
   "cell_type": "code",
   "execution_count": 6,
   "metadata": {},
   "outputs": [
    {
     "name": "stderr",
     "output_type": "stream",
     "text": [
      "C:\\Users\\HP\\Anaconda3\\lib\\site-packages\\sklearn\\linear_model\\stochastic_gradient.py:130: DeprecationWarning: n_iter parameter is deprecated in 0.19 and will be removed in 0.21. Use max_iter and tol instead.\n",
      "  DeprecationWarning)\n",
      "C:\\Users\\HP\\Anaconda3\\lib\\site-packages\\sklearn\\linear_model\\stochastic_gradient.py:130: DeprecationWarning: n_iter parameter is deprecated in 0.19 and will be removed in 0.21. Use max_iter and tol instead.\n",
      "  DeprecationWarning)\n",
      "C:\\Users\\HP\\Anaconda3\\lib\\site-packages\\sklearn\\linear_model\\stochastic_gradient.py:130: DeprecationWarning: n_iter parameter is deprecated in 0.19 and will be removed in 0.21. Use max_iter and tol instead.\n",
      "  DeprecationWarning)\n",
      "C:\\Users\\HP\\Anaconda3\\lib\\site-packages\\sklearn\\linear_model\\stochastic_gradient.py:130: DeprecationWarning: n_iter parameter is deprecated in 0.19 and will be removed in 0.21. Use max_iter and tol instead.\n",
      "  DeprecationWarning)\n",
      "C:\\Users\\HP\\Anaconda3\\lib\\site-packages\\sklearn\\linear_model\\stochastic_gradient.py:130: DeprecationWarning: n_iter parameter is deprecated in 0.19 and will be removed in 0.21. Use max_iter and tol instead.\n",
      "  DeprecationWarning)\n"
     ]
    },
    {
     "name": "stdout",
     "output_type": "stream",
     "text": [
      "0.6450561041275134\n"
     ]
    }
   ],
   "source": [
    "#cross validation\n",
    "from sklearn.model_selection import cross_val_score\n",
    "\n",
    "score = cross_val_score(text_clf_svm, X_train, y_train, cv=5, scoring='accuracy')\n",
    "\n",
    "print(np.mean(score))"
   ]
  },
  {
   "cell_type": "code",
   "execution_count": 9,
   "metadata": {},
   "outputs": [
    {
     "data": {
      "text/plain": [
       "array([[1801,   36,   47,   26,   39,   17,   19,   21,   23,  109],\n",
       "       [ 142,  381,   30,   12,   13,   11,   12,   17,   18,   42],\n",
       "       [ 104,   16,  390,   21,   29,   13,    7,   22,   13,   52],\n",
       "       [  56,    9,   15,  320,   14,   12,   12,   22,   14,   25],\n",
       "       [  78,   16,   31,   27,  490,   24,   32,   34,   24,   69],\n",
       "       [  45,   12,   23,   24,   25,  374,   19,   34,   38,   83],\n",
       "       [  42,   17,   23,   40,   31,   27,  546,   59,   69,  114],\n",
       "       [  76,   28,   36,   35,   40,   22,   68, 1118,  147,  302],\n",
       "       [  76,   31,   36,   23,   50,   29,   44,  121, 1640,  661],\n",
       "       [ 110,   24,   31,   37,   49,   35,   56,  134,  190, 4428]],\n",
       "      dtype=int64)"
      ]
     },
     "execution_count": 9,
     "metadata": {},
     "output_type": "execute_result"
    }
   ],
   "source": [
    "#confusion matrix\n",
    "from sklearn.metrics import confusion_matrix\n",
    "\n",
    "confusion_matrix(y_validation, prediction)\n"
   ]
  },
  {
   "cell_type": "code",
   "execution_count": 12,
   "metadata": {},
   "outputs": [
    {
     "name": "stdout",
     "output_type": "stream",
     "text": [
      "Accuracy :  0.697253394506789\n"
     ]
    }
   ],
   "source": [
    "from sklearn.naive_bayes import MultinomialNB\n",
    "text_clf = Pipeline([('vect', CountVectorizer(ngram_range=(1,3))),\n",
    "                        ('tfidf', TfidfTransformer(norm=None, smooth_idf=True, sublinear_tf=False,\n",
    "                        use_idf=True)),\n",
    "                        ('nb', MultinomialNB())])\n",
    "\n",
    "text_clf = text_clf.fit(X_train.astype(str), y_train)\n",
    "prediction = text_clf.predict(X_validation.astype(str))\n",
    "accuracy = accuracy_score(y_validation, prediction)\n",
    "print(\"Accuracy : \",accuracy)"
   ]
  },
  {
   "cell_type": "code",
   "execution_count": null,
   "metadata": {
    "collapsed": true
   },
   "outputs": [],
   "source": []
  },
  {
   "cell_type": "code",
   "execution_count": 5,
   "metadata": {
    "collapsed": true
   },
   "outputs": [],
   "source": [
    "from sklearn.naive_bayes import MultinomialNB\n",
    "from sklearn.pipeline import Pipeline\n",
    "from sklearn.feature_extraction.text import CountVectorizer\n",
    "from sklearn.feature_extraction.text import TfidfTransformer\n",
    "from sklearn.metrics import accuracy_score\n",
    "text_clf = Pipeline([('vect', CountVectorizer(ngram_range=(1,3))),\n",
    "                        ('tfidf', TfidfTransformer(norm=None, smooth_idf=True, sublinear_tf=False,\n",
    "                        use_idf=True)),\n",
    "                        ('nb', MultinomialNB())])"
   ]
  },
  {
   "cell_type": "code",
   "execution_count": 6,
   "metadata": {},
   "outputs": [
    {
     "name": "stdout",
     "output_type": "stream",
     "text": [
      "0.6324286524028262\n"
     ]
    }
   ],
   "source": [
    "#cross validation\n",
    "from sklearn.model_selection import cross_val_score\n",
    "\n",
    "score = cross_val_score(text_clf, X_train, y_train, cv=5, scoring='accuracy')\n",
    "\n",
    "print(np.mean(score))"
   ]
  },
  {
   "cell_type": "code",
   "execution_count": 13,
   "metadata": {},
   "outputs": [
    {
     "data": {
      "text/plain": [
       "array([[1702,   38,   23,   10,   35,   14,   20,   61,   81,  154],\n",
       "       [ 122,  378,   15,    2,   21,    5,   14,   25,   30,   66],\n",
       "       [ 103,   17,  374,    6,   23,    6,   14,   35,   45,   44],\n",
       "       [  47,    7,    4,  303,   18,    6,    8,   30,   38,   38],\n",
       "       [  77,   10,   10,    7,  473,    7,   18,   71,   77,   75],\n",
       "       [  51,    5,   11,    6,   18,  354,   27,   51,   64,   90],\n",
       "       [  41,    6,    8,    4,   15,   13,  527,   80,  113,  161],\n",
       "       [  74,    7,   10,    8,   27,    9,   32, 1137,  242,  326],\n",
       "       [  60,    6,   11,    5,   18,    8,   26,  179, 1790,  608],\n",
       "       [  81,   12,   10,   11,   18,   14,   46,  206,  488, 4208]],\n",
       "      dtype=int64)"
      ]
     },
     "execution_count": 13,
     "metadata": {},
     "output_type": "execute_result"
    }
   ],
   "source": [
    "#confusion matrix\n",
    "from sklearn.metrics import confusion_matrix\n",
    "\n",
    "confusion_matrix(y_validation, prediction)\n"
   ]
  },
  {
   "cell_type": "code",
   "execution_count": 7,
   "metadata": {},
   "outputs": [
    {
     "name": "stderr",
     "output_type": "stream",
     "text": [
      "C:\\Users\\HP\\Anaconda3\\lib\\site-packages\\sklearn\\linear_model\\stochastic_gradient.py:130: DeprecationWarning: n_iter parameter is deprecated in 0.19 and will be removed in 0.21. Use max_iter and tol instead.\n",
      "  DeprecationWarning)\n"
     ]
    },
    {
     "name": "stdout",
     "output_type": "stream",
     "text": [
      "Accuracy  0.7141794283588567\n"
     ]
    }
   ],
   "source": [
    "#jika feature selection menggunakan chi2\n",
    "from sklearn.linear_model import SGDClassifier\n",
    "from sklearn.pipeline import Pipeline\n",
    "from sklearn.feature_extraction.text import CountVectorizer\n",
    "from sklearn.feature_extraction.text import TfidfTransformer\n",
    "from sklearn.metrics import accuracy_score, f1_score\n",
    "from sklearn.feature_selection import SelectKBest, chi2\n",
    "\n",
    "\n",
    "text_clf = Pipeline([('vect', CountVectorizer(ngram_range=(1,3))),\n",
    "                        ('tfidf', TfidfTransformer(norm=None, smooth_idf=True, sublinear_tf=False,\n",
    "                        use_idf=True)),\n",
    "                        ('chi2', SelectKBest(chi2, k=3000000)),\n",
    "                        ('sgd', SGDClassifier(loss='hinge',alpha=1e-3, n_iter=5,random_state=0))])\n",
    "\n",
    "text_clf = text_clf.fit(X_train.astype(str), y_train)\n",
    "prediction = text_clf.predict(X_validation.astype(str))\n",
    "accuracy = accuracy_score(y_validation, prediction)\n",
    "print(\"Accuracy \",accuracy)"
   ]
  },
  {
   "cell_type": "code",
   "execution_count": 9,
   "metadata": {
    "scrolled": true
   },
   "outputs": [
    {
     "data": {
      "text/plain": [
       "<matplotlib.axes._subplots.AxesSubplot at 0x29d89b86128>"
      ]
     },
     "execution_count": 9,
     "metadata": {},
     "output_type": "execute_result"
    },
    {
     "data": {
      "image/png": "[encoded data removed]",
      "text/plain": [
       "<Figure size 432x288 with 2 Axes>"
      ]
     },
     "metadata": {},
     "output_type": "display_data"
    }
   ],
   "source": [
    "from sklearn.metrics import confusion_matrix\n",
    "sns.heatmap(confusion_matrix(y_validation, prediction))"
   ]
  },
  {
   "cell_type": "code",
   "execution_count": 10,
   "metadata": {},
   "outputs": [
    {
     "name": "stdout",
     "output_type": "stream",
     "text": [
      "Accuracy  0.6984313968627938\n"
     ]
    }
   ],
   "source": [
    "#jika feature selection menggunakan chi2\n",
    "\n",
    "from sklearn.naive_bayes import MultinomialNB\n",
    "from sklearn.pipeline import Pipeline\n",
    "from sklearn.feature_extraction.text import CountVectorizer\n",
    "from sklearn.feature_extraction.text import TfidfTransformer\n",
    "from sklearn.metrics import accuracy_score, f1_score\n",
    "from sklearn.feature_selection import SelectKBest, chi2\n",
    "\n",
    "\n",
    "text_clf = Pipeline([('vect', CountVectorizer(ngram_range=(1,3))),\n",
    "                        ('tfidf', TfidfTransformer(norm=None, smooth_idf=True, sublinear_tf=False,\n",
    "                        use_idf=True)),\n",
    "                        ('chi2', SelectKBest(chi2, k=3000000)),\n",
    "                        ('mnb', MultinomialNB())])\n",
    "\n",
    "text_clf = text_clf.fit(X_train.astype(str), y_train)\n",
    "prediction = text_clf.predict(X_validation.astype(str))\n",
    "accuracy = accuracy_score(y_validation, prediction)\n",
    "print(\"Accuracy \",accuracy)"
   ]
  },
  {
   "cell_type": "code",
   "execution_count": 11,
   "metadata": {},
   "outputs": [
    {
     "data": {
      "text/plain": [
       "<matplotlib.axes._subplots.AxesSubplot at 0x29d95ce71d0>"
      ]
     },
     "execution_count": 11,
     "metadata": {},
     "output_type": "execute_result"
    },
    {
     "data": {
      "image/png": "[encoded data removed]",
      "text/plain": [
       "<Figure size 432x288 with 2 Axes>"
      ]
     },
     "metadata": {},
     "output_type": "display_data"
    }
   ],
   "source": [
    "sns.heatmap(confusion_matrix(y_validation, prediction))"
   ]
  },
  {
   "cell_type": "code",
   "execution_count": null,
   "metadata": {
    "collapsed": true
   },
   "outputs": [],
   "source": []
  },
  {
   "cell_type": "code",
   "execution_count": null,
   "metadata": {
    "collapsed": true
   },
   "outputs": [],
   "source": []
  }
 ],
 "metadata": {
  "kernelspec": {
   "display_name": "Python 3",
   "language": "python",
   "name": "python3"
  },
  "language_info": {
   "codemirror_mode": {
    "name": "ipython",
    "version": 3
   },
   "file_extension": ".py",
   "mimetype": "text/x-python",
   "name": "python",
   "nbconvert_exporter": "python",
   "pygments_lexer": "ipython3",
   "version": "3.6.3"
  }
 },
 "nbformat": 4,
 "nbformat_minor": 2
}
